{
  "nbformat": 4,
  "nbformat_minor": 0,
  "metadata": {
    "colab": {
      "provenance": [],
      "authorship_tag": "ABX9TyO4Re8inYVEx4+LZNyIN+WK",
      "include_colab_link": true
    },
    "kernelspec": {
      "name": "python3",
      "display_name": "Python 3"
    },
    "language_info": {
      "name": "python"
    }
  },
  "cells": [
    {
      "cell_type": "markdown",
      "metadata": {
        "id": "view-in-github",
        "colab_type": "text"
      },
      "source": [
        "<a href=\"https://colab.research.google.com/github/rigamrozel/DV-BSIS2-LAB8-rigamrozel/blob/main/LAB8.ipynb\" target=\"_parent\"><img src=\"https://colab.research.google.com/assets/colab-badge.svg\" alt=\"Open In Colab\"/></a>"
      ]
    },
    {
      "cell_type": "code",
      "execution_count": 1,
      "metadata": {
        "colab": {
          "base_uri": "https://localhost:8080/"
        },
        "id": "Q3HAewfvLssz",
        "outputId": "149d4028-4a7f-4293-b7a6-553c0a3560e0"
      },
      "outputs": [
        {
          "output_type": "stream",
          "name": "stdout",
          "text": [
            "R\n",
            "o\n",
            "z\n",
            "e\n",
            "l\n",
            "0\n",
            "1\n",
            "2\n",
            "3\n",
            "4\n",
            "5\n",
            "6\n",
            "7\n",
            "8\n",
            "9\n",
            "10\n",
            "11\n",
            "12\n",
            "13\n",
            "14\n",
            "0\n",
            "1\n",
            "2\n",
            "3\n",
            "4\n",
            "5\n",
            "6\n",
            "7\n",
            "8\n",
            "9\n",
            "10\n",
            "11\n",
            "12\n",
            "13\n",
            "14\n",
            "Finally finished!\n",
            "cherry\n",
            "dragon fruit\n",
            "guava\n",
            "Python\n",
            "Excel\n",
            "Rapid Miner\n",
            "R\n"
          ]
        }
      ],
      "source": [
        "myName=\"Rozel\"\n",
        "for x in myName:\n",
        "  print(x)\n",
        "Range=(15)\n",
        "for x in range(15):\n",
        "   print(x)\n",
        "\n",
        "Range=(15)\n",
        "for x in range(15):\n",
        "   print(x)\n",
        "else:\n",
        "   print(\"Finally finished!\")\n",
        "\n",
        "thislist=[\"cherry\",\"dragon fruit\",\"guava\"]\n",
        "for x in thislist:\n",
        "  print(x)\n",
        "\n",
        "dataAnalyticsTools=['Python','Excel','Rapid Miner','R']\n",
        "for i in range(len(dataAnalyticsTools)):\n",
        "  print(dataAnalyticsTools[i])"
      ]
    }
  ]
}